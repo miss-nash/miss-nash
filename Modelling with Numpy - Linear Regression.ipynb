{
 "cells": [
  {
   "cell_type": "markdown",
   "metadata": {},
   "source": [
    "# NUMPY APLLICATION "
   ]
  },
  {
   "cell_type": "markdown",
   "metadata": {},
   "source": [
    "### OBJECTIVE"
   ]
  },
  {
   "cell_type": "markdown",
   "metadata": {},
   "source": [
    "Use Numpy for modelling"
   ]
  },
  {
   "cell_type": "markdown",
   "metadata": {},
   "source": [
    "#### Task\n",
    "    "
   ]
  },
  {
   "cell_type": "markdown",
   "metadata": {},
   "source": [
    "Implement a Linear Regression model using numpy."
   ]
  },
  {
   "cell_type": "code",
   "execution_count": null,
   "metadata": {},
   "outputs": [],
   "source": []
  },
  {
   "cell_type": "code",
   "execution_count": 1,
   "metadata": {},
   "outputs": [],
   "source": [
    "import numpy as np\n",
    "import pandas as pd\n",
    "import matplotlib.pyplot as plt\n",
    "import seaborn as sns\n",
    "from sklearn.model_selection import train_test_split\n",
    "from sklearn import datasets\n"
   ]
  },
  {
   "cell_type": "markdown",
   "metadata": {},
   "source": [
    "Linear Regregression has a general formula;\n",
    "$y = mx+ b$\n",
    "\n",
    "In this case:\n",
    "$y = wx + b$\n",
    "\n",
    "Linear Regression is used to:\n",
    "1. Predict continuous values.\n",
    "2. Find linear relationship between given variables and the target column.\n"
   ]
  },
  {
   "cell_type": "markdown",
   "metadata": {},
   "source": [
    "$y$ - Target\n",
    "$w$ - Weights\n",
    "$x$ - features\n",
    "$b$ - bias"
   ]
  },
  {
   "cell_type": "markdown",
   "metadata": {},
   "source": [
    "# Gradient Descent;\n",
    "We adjust weights and bias to reduce the error function. The values that yield the least errors will be used."
   ]
  },
  {
   "cell_type": "code",
   "execution_count": 11,
   "metadata": {},
   "outputs": [],
   "source": [
    "class LinearRegression:\n",
    "\n",
    "    def __init__(self, ls=0.001, n_iters=1000):\n",
    "        self.ls = ls\n",
    "        self.n_iters = n_iters\n",
    "        self.weights = None #we start with 0 weights\n",
    "        self.bias = None # we also start with zero bias\n",
    "    #The fit function fits our model in the train and test set\n",
    "    #In this function we will define our loss as well as update our gradients. \n",
    "    def fit(self, X, y):\n",
    "        #passing initial parameters\n",
    "        n_samples, n_features = X.shape\n",
    "        self.weights = np.zeros(n_features) #starting with weights of zeros of the size four features\n",
    "        self.bias = 0\n",
    "\n",
    "        for _ in range(self.n_iters):\n",
    "            y_predicted = np.dot(X, self.weights)+self.bias #y_pred = mx+b\n",
    "            #calculating the derivatives\n",
    "            dw = (1/n_samples) * np.dot(X.T, (y_predicted-y)) #multiplying by the transpose of x to find derivative of the weight\n",
    "            db = (1/n_samples) * np.sum(y_predicted-y) #derivative of the bias\n",
    "\n",
    "            #updating the weights\n",
    "            self.weights -= self.ls*dw\n",
    "            self.bias -= self.ls*db\n",
    "            \n",
    "            #essentially the above is the gradient descent\n",
    "\n",
    "    def predict(self, X):\n",
    "        y_predicted = np.dot(X, self.weights) + self.bias\n",
    "        return y_predicted"
   ]
  },
  {
   "cell_type": "markdown",
   "metadata": {},
   "source": [
    "$y = wx + b$"
   ]
  },
  {
   "cell_type": "code",
   "execution_count": 3,
   "metadata": {},
   "outputs": [],
   "source": [
    "class LinearRegression:\n",
    "    \n",
    "    def _init_(self, ls=0.01, n_iters= 1000):\n",
    "        self.ls=ls\n",
    "        self.n_iters = n_iters\n",
    "        self.weights = None\n",
    "        self.bias = None\n",
    "    \n",
    "    def fit(self, X, y):\n",
    "        n_samples, n_features = X.shape\n",
    "        self.weights = np.zeros(n_features)\n",
    "        self.bias = 0\n",
    "        \n",
    "        for n in self.n_iters:\n",
    "            y_predicted=np.dot(X, self.weights) + self.bias\n",
    "            #we now obtain the derivatives of weights and bias\n",
    "            dw = (1/n_samples)* np.dot(X.T, (y_predicted - y))\n",
    "            db = (1/n_samples)* np.sum(y_predicted - y)\n",
    "            \n",
    "            #updating the weights in each iterative\n",
    "            self.weights = dw\n",
    "            self.bias = db\n",
    "            \n",
    "    def predict(self, X):\n",
    "        y_predicted = np.dot(X, self.weights)+ self.bias\n",
    "        return y_predicted\n",
    "        \n",
    "        "
   ]
  },
  {
   "cell_type": "markdown",
   "metadata": {},
   "source": [
    "We then generate a dataset with a linear regression problem and split it into train and test datasets."
   ]
  },
  {
   "cell_type": "code",
   "execution_count": 12,
   "metadata": {},
   "outputs": [],
   "source": [
    "X,y = datasets.make_regression(n_samples= 1000, n_features= 1, noise = 20, random_state= 4)\n",
    "X_train, X_test, y_train, y_test = train_test_split(X, y, test_size = 0.3, random_state = 42)"
   ]
  },
  {
   "cell_type": "markdown",
   "metadata": {},
   "source": [
    "Applying our LinearRegression to the generated dataset."
   ]
  },
  {
   "cell_type": "code",
   "execution_count": 10,
   "metadata": {},
   "outputs": [],
   "source": [
    "Regressor= LinearRegression()\n",
    "Regressor.fit(X_train, y_train)\n",
    "Predicted_values = Regressor.predict(X_test)"
   ]
  },
  {
   "cell_type": "markdown",
   "metadata": {},
   "source": [
    "#### Evaluation Metrics: Mean Squared Error\n"
   ]
  },
  {
   "cell_type": "code",
   "execution_count": 13,
   "metadata": {},
   "outputs": [
    {
     "name": "stdout",
     "output_type": "stream",
     "text": [
      "469.2177832051656\n"
     ]
    }
   ],
   "source": [
    "def mse(y_true, y_predicted):\n",
    "    return np.mean((y_true - y_predicted)**2)\n",
    "mse_value = mse(y_test, Predicted_values)\n",
    "print(mse_value)"
   ]
  },
  {
   "cell_type": "markdown",
   "metadata": {},
   "source": [
    "#### Fitting a regression line through our data\n"
   ]
  },
  {
   "cell_type": "code",
   "execution_count": 16,
   "metadata": {},
   "outputs": [
    {
     "data": {
      "text/plain": [
       "Text(0.5, 1.0, 'Regression line for L.R Model 1')"
      ]
     },
     "execution_count": 16,
     "metadata": {},
     "output_type": "execute_result"
    },
    {
     "data": {
      "image/png": "[encoded data removed]",
      "text/plain": [
       "<Figure size 432x288 with 1 Axes>"
      ]
     },
     "metadata": {
      "needs_background": "light"
     },
     "output_type": "display_data"
    }
   ],
   "source": [
    "plt.scatter(X_test, y_test, color= 'r')\n",
    "plt.plot(X_test, Predicted_values)\n",
    "plt.title('Regression line for L.R Model 1')"
   ]
  },
  {
   "cell_type": "code",
   "execution_count": null,
   "metadata": {},
   "outputs": [],
   "source": []
  },
  {
   "cell_type": "code",
   "execution_count": null,
   "metadata": {},
   "outputs": [],
   "source": []
  }
 ],
 "metadata": {
  "kernelspec": {
   "display_name": "Python 3",
   "language": "python",
   "name": "python3"
  },
  "language_info": {
   "codemirror_mode": {
    "name": "ipython",
    "version": 3
   },
   "file_extension": ".py",
   "mimetype": "text/x-python",
   "name": "python",
   "nbconvert_exporter": "python",
   "pygments_lexer": "ipython3",
   "version": "3.8.3"
  }
 },
 "nbformat": 4,
 "nbformat_minor": 4
}
